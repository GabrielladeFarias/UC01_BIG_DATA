{
  "nbformat": 4,
  "nbformat_minor": 0,
  "metadata": {
    "colab": {
      "provenance": [],
      "authorship_tag": "ABX9TyMWqc25oUHsE/KPnddMZwFe",
      "include_colab_link": true
    },
    "kernelspec": {
      "name": "python3",
      "display_name": "Python 3"
    },
    "language_info": {
      "name": "python"
    }
  },
  "cells": [
    {
      "cell_type": "markdown",
      "metadata": {
        "id": "view-in-github",
        "colab_type": "text"
      },
      "source": [
        "<a href=\"https://colab.research.google.com/github/GabrielladeFarias/UC01_BIG_DATA/blob/main/Untitled0.ipynb\" target=\"_parent\"><img src=\"https://colab.research.google.com/assets/colab-badge.svg\" alt=\"Open In Colab\"/></a>"
      ]
    },
    {
      "cell_type": "code",
      "execution_count": 1,
      "metadata": {
        "colab": {
          "base_uri": "https://localhost:8080/"
        },
        "id": "tg5oS7tBqzOE",
        "outputId": "a3baf4e5-329d-4a2b-f09d-d01bf637937b"
      },
      "outputs": [
        {
          "output_type": "stream",
          "name": "stdout",
          "text": [
            "Médias maiores que 70\n",
            "0     80\n",
            "1     90\n",
            "6     70\n",
            "7    100\n",
            "dtype: int64\n",
            "Médias menores que 70\n",
            "2    10\n",
            "3    20\n",
            "4    30\n",
            "5    40\n",
            "6    70\n",
            "8    30\n",
            "9    50\n",
            "dtype: int64\n"
          ]
        }
      ],
      "source": [
        "import pandas as pd\n",
        "media = pd.Series([80,90,10,20,30,40,70,100,30,50])\n",
        "ap = media[media >=70]\n",
        "rp = media[media <=70]\n",
        "print(\"Médias maiores que 70\")\n",
        "print(ap)\n",
        "print(\"Médias menores que 70\")\n",
        "print(rp)"
      ]
    },
    {
      "cell_type": "code",
      "source": [
        "import pandas as pd\n",
        "nota_01 = pd.Series([100,50,40,30,80])\n",
        "nota_02 = pd.Series([60,20,90,40,10])\n",
        "media = (nota_01 + nota_02) / 2\n",
        "print(media)"
      ],
      "metadata": {
        "colab": {
          "base_uri": "https://localhost:8080/"
        },
        "id": "xMHQSF34rsKE",
        "outputId": "c57caeeb-b3ca-441e-891e-a99526607341"
      },
      "execution_count": 3,
      "outputs": [
        {
          "output_type": "stream",
          "name": "stdout",
          "text": [
            "0    80.0\n",
            "1    35.0\n",
            "2    65.0\n",
            "3    35.0\n",
            "4    45.0\n",
            "dtype: float64\n"
          ]
        }
      ]
    }
  ]
}
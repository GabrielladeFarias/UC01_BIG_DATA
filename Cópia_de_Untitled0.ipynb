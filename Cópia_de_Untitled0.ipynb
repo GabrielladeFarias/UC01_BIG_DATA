{
  "nbformat": 4,
  "nbformat_minor": 0,
  "metadata": {
    "colab": {
      "provenance": [],
      "authorship_tag": "ABX9TyNodVxmRaZJjXlw+r2D8HWi",
      "include_colab_link": true
    },
    "kernelspec": {
      "name": "python3",
      "display_name": "Python 3"
    },
    "language_info": {
      "name": "python"
    }
  },
  "cells": [
    {
      "cell_type": "markdown",
      "metadata": {
        "id": "view-in-github",
        "colab_type": "text"
      },
      "source": [
        "<a href=\"https://colab.research.google.com/github/GabrielladeFarias/UC01_BIG_DATA/blob/main/C%C3%B3pia_de_Untitled0.ipynb\" target=\"_parent\"><img src=\"https://colab.research.google.com/assets/colab-badge.svg\" alt=\"Open In Colab\"/></a>"
      ]
    },
    {
      "cell_type": "code",
      "execution_count": null,
      "metadata": {
        "colab": {
          "base_uri": "https://localhost:8080/"
        },
        "id": "0blJtVw8UL-w",
        "outputId": "9e9d9813-2ac8-4a54-cbd4-62133c345b7a"
      },
      "outputs": [
        {
          "output_type": "stream",
          "name": "stdout",
          "text": [
            "-------------- Dados da Vacinação -------------\n",
            "Total de Vacinados 70000000\n",
            "Média de Vacinados 17500000\n",
            "--------------- Dados da População --------------\n",
            "Total da População 860057657\n",
            "Média da População 215014414\n",
            "\n",
            "---- Taxa de Vacinação ----\n",
            "0    14.06%\n",
            "1    11.66%\n",
            "2     4.64%\n",
            "3     2.31%\n",
            "dtype: object\n"
          ]
        }
      ],
      "source": [
        "import pandas as pd\n",
        "def formatar(valor):\n",
        "  return \"{:.2f}%\".format(valor)\n",
        "vacinas = pd.Series([30000000, 25000000, 10000000, 5000000])\n",
        "populacao = pd.Series([213317639, 214477744, 215574303, 216687971])\n",
        "soma1 = vacinas.sum()\n",
        "media_pop_vac = vacinas.mean()\n",
        "soma2 = populacao.sum()\n",
        "media_pop_br = populacao.mean()\n",
        "taxa_vac = ((vacinas/populacao) * 100).apply(formatar)\n",
        "print(\"-------------- Dados da Vacinação -------------\")\n",
        "print(f\"Total de Vacinados {vacinas.sum()}\")\n",
        "print(f\"Média de Vacinados {vacinas.mean():.0f}\")\n",
        "\n",
        "print(\"--------------- Dados da População --------------\")\n",
        "print(f\"Total da População {populacao.sum()}\")\n",
        "print(f\"Média da População {populacao.mean():.0f}\")\n",
        "\n",
        "print(\"\\n---- Taxa de Vacinação ----\")\n",
        "print(f\"{taxa_vac}\")"
      ]
    },
    {
      "cell_type": "code",
      "source": [
        "import pandas as pd\n",
        "def formatar(valor):\n",
        "  return \"{:.2f}%\".format(valor)\n",
        "roubo = pd.Series([100,90,80,120,110,90,70])\n",
        "furto = pd.Series([80,60,70,60,100,50,30])\n",
        "recuperacao = pd.Series([70,50,90,80,100,70,50])\n",
        "roubo_furto = roubo + furto\n",
        "taxa_rec = ((recuperacao/roubo_furto) * 100).apply(formatar)\n",
        "print(\"\\n- Total Geral de Roubos -\")\n",
        "print(f\"{roubo_furto.sum()}\")\n",
        "print(\"\\n- Total de Roubos Diários -\")\n",
        "print(f\"{roubo_furto}\")\n",
        "print(\"\\n- Taxa de Recuperação Diária -\")\n",
        "print(f\"{taxa_rec}\")\n",
        "\n"
      ],
      "metadata": {
        "colab": {
          "base_uri": "https://localhost:8080/"
        },
        "id": "xUD7SYDHir8H",
        "outputId": "f3b9dc92-9bd1-4a95-c564-ccdebdfa195f"
      },
      "execution_count": null,
      "outputs": [
        {
          "output_type": "stream",
          "name": "stdout",
          "text": [
            "\n",
            "- Total Geral de Roubos -\n",
            "1110\n",
            "\n",
            "- Total de Roubos Diários -\n",
            "0    180\n",
            "1    150\n",
            "2    150\n",
            "3    180\n",
            "4    210\n",
            "5    140\n",
            "6    100\n",
            "dtype: int64\n",
            "\n",
            "- Taxa de Recuperação Diária -\n",
            "0    38.89%\n",
            "1    33.33%\n",
            "2    60.00%\n",
            "3    44.44%\n",
            "4    47.62%\n",
            "5    50.00%\n",
            "6    50.00%\n",
            "dtype: object\n"
          ]
        }
      ]
    },
    {
      "cell_type": "code",
      "source": [
        "import pandas as pd\n",
        "def formatar(valor):\n",
        "  return \"R${:.2f}\".format(valor)\n",
        "maria = pd.Series([800,700,1000,900,1200,600,600])\n",
        "joao = pd.Series([900,500,1100,1000,900,500,700])\n",
        "manuel = pd.Series([700,600,900,1200,900,700,400])\n",
        "print(\"\\n--------------- Dados Vendas -----------------\")\n",
        "print(\"VENDEDOR  MÉDIA   MAIOR_VALOR  MENOR_VALOR\")\n",
        "print(f\"MARIA:  R${maria.mean():.2F} - R${maria.max():.2F} - R${maria.min():.2F}\")\n",
        "print(f\"JOÃO:   R${joao.mean():.2F} - R${joao.max():.2F} - R${joao.min():.2F}\")\n",
        "print(f\"MANUEL: R${manuel.mean():.2F} - R${manuel.max():.2F} - R${manuel.min():.2F}\")\n",
        "\n"
      ],
      "metadata": {
        "colab": {
          "base_uri": "https://localhost:8080/"
        },
        "id": "hpeV_-2ksjDS",
        "outputId": "e4ac1d1c-141c-400e-b382-2724eeda5e7b"
      },
      "execution_count": null,
      "outputs": [
        {
          "output_type": "stream",
          "name": "stdout",
          "text": [
            "\n",
            "--------------- Dados Vendas -----------------\n",
            "VENDEDOR  MÉDIA   MAIOR_VALOR  MENOR_VALOR\n",
            "MARIA:  R$828.57 - R$1200.00 - R$600.00\n",
            "JOÃO:   R$800.00 - R$1100.00 - R$500.00\n",
            "MANUEL: R$771.43 - R$1200.00 - R$400.00\n"
          ]
        }
      ]
    },
    {
      "cell_type": "code",
      "source": [
        "import pandas as pd\n",
        "\n",
        "vendedores = {\n",
        "    'Nome':['Maria','João','Manoel'],\n",
        "    'Vendas_01':[800,900,700],\n",
        "    'Vendas_02':[700,500,600],\n",
        "    'Vendas_03':[1000,1100,900],\n",
        "    'Vendas_04':[900,1000,1200],\n",
        "}\n",
        "df_vendedores = pd.DataFrame(vendedores)\n",
        "\n",
        "print(df_vendedores)"
      ],
      "metadata": {
        "colab": {
          "base_uri": "https://localhost:8080/"
        },
        "id": "A1_NxBmF8MRj",
        "outputId": "d28b35dc-2950-40ab-fcc2-f80febe51a1b"
      },
      "execution_count": null,
      "outputs": [
        {
          "output_type": "stream",
          "name": "stdout",
          "text": [
            "     Nome  Vendas_01  Vendas_02  Vendas_03  Vendas_04\n",
            "0   Maria        800        700       1000        900\n",
            "1    João        900        500       1100       1000\n",
            "2  Manoel        700        600        900       1200\n"
          ]
        }
      ]
    }
  ]
}